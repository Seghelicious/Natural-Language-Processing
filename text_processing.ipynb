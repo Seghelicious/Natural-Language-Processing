{
 "cells": [
  {
   "cell_type": "markdown",
   "metadata": {},
   "source": [
    "# Text Processing\n",
    "\n",
    "## Capturing Text Data\n",
    "\n",
    "### Plain Text"
   ]
  },
  {
   "cell_type": "code",
   "execution_count": 1,
   "metadata": {},
   "outputs": [
    {
     "name": "stdout",
     "output_type": "stream",
     "text": [
      "Hieroglyphic writing dates from c. 3000 BC, and is composed of hundreds of symbols. A hieroglyph can represent a word, a sound, or a silent determinative; and the same symbol can serve different purposes in different contexts. Hieroglyphs were a formal script, used on stone monuments and in tombs, that could be as detailed as individual works of art.\n",
      "\n"
     ]
    }
   ],
   "source": [
    "import os\n",
    "\n",
    "# Read in a plain text file\n",
    "with open(os.path.join(\"data\", \"hieroglyph.txt\"), \"r\") as f:\n",
    "    text = f.read()\n",
    "    print(text)"
   ]
  },
  {
   "cell_type": "markdown",
   "metadata": {},
   "source": [
    "### Tabular Data"
   ]
  },
  {
   "cell_type": "code",
   "execution_count": 2,
   "metadata": {
    "scrolled": true
   },
   "outputs": [
    {
     "data": {
      "text/html": [
       "<div>\n",
       "<style scoped>\n",
       "    .dataframe tbody tr th:only-of-type {\n",
       "        vertical-align: middle;\n",
       "    }\n",
       "\n",
       "    .dataframe tbody tr th {\n",
       "        vertical-align: top;\n",
       "    }\n",
       "\n",
       "    .dataframe thead th {\n",
       "        text-align: right;\n",
       "    }\n",
       "</style>\n",
       "<table border=\"1\" class=\"dataframe\">\n",
       "  <thead>\n",
       "    <tr style=\"text-align: right;\">\n",
       "      <th></th>\n",
       "      <th>publisher</th>\n",
       "      <th>title</th>\n",
       "    </tr>\n",
       "  </thead>\n",
       "  <tbody>\n",
       "    <tr>\n",
       "      <th>0</th>\n",
       "      <td>Livemint</td>\n",
       "      <td>fed's charles plosser sees high bar for change...</td>\n",
       "    </tr>\n",
       "    <tr>\n",
       "      <th>1</th>\n",
       "      <td>IFA Magazine</td>\n",
       "      <td>us open: stocks fall after fed official hints ...</td>\n",
       "    </tr>\n",
       "    <tr>\n",
       "      <th>2</th>\n",
       "      <td>IFA Magazine</td>\n",
       "      <td>fed risks falling 'behind the curve', charles ...</td>\n",
       "    </tr>\n",
       "    <tr>\n",
       "      <th>3</th>\n",
       "      <td>Moneynews</td>\n",
       "      <td>fed's plosser: nasty weather has curbed job gr...</td>\n",
       "    </tr>\n",
       "    <tr>\n",
       "      <th>4</th>\n",
       "      <td>NASDAQ</td>\n",
       "      <td>plosser: fed may have to accelerate tapering pace</td>\n",
       "    </tr>\n",
       "  </tbody>\n",
       "</table>\n",
       "</div>"
      ],
      "text/plain": [
       "      publisher                                              title\n",
       "0      Livemint  fed's charles plosser sees high bar for change...\n",
       "1  IFA Magazine  us open: stocks fall after fed official hints ...\n",
       "2  IFA Magazine  fed risks falling 'behind the curve', charles ...\n",
       "3     Moneynews  fed's plosser: nasty weather has curbed job gr...\n",
       "4        NASDAQ  plosser: fed may have to accelerate tapering pace"
      ]
     },
     "execution_count": 2,
     "metadata": {},
     "output_type": "execute_result"
    }
   ],
   "source": [
    "import pandas as pd\n",
    "\n",
    "# Extract text column from a dataframe\n",
    "df = pd.read_csv(os.path.join(\"data\", \"news.csv\"))\n",
    "df.head()[['publisher', 'title']]\n",
    "\n",
    "# Convert text column to lowercase\n",
    "df['title'] = df['title'].str.lower()\n",
    "df.head()[['publisher', 'title']]"
   ]
  },
  {
   "cell_type": "markdown",
   "metadata": {},
   "source": [
    "### Online Resource"
   ]
  },
  {
   "cell_type": "code",
   "execution_count": 3,
   "metadata": {
    "scrolled": true
   },
   "outputs": [
    {
     "name": "stdout",
     "output_type": "stream",
     "text": [
      "{\n",
      "    \"success\": {\n",
      "        \"total\": 1\n",
      "    },\n",
      "    \"contents\": {\n",
      "        \"quotes\": [\n",
      "            {\n",
      "                \"quote\": \"Your time is limited, so don't waste it living someone else's life. Don't be trapped by dogma - which is living with the results of other people's thinking. Don't let the noise of other's opinions drown out your own inner voice. And most important, have the courage to follow your heart and intuition. They somehow already know what you truly want to become. Everything else is secondary.\",\n",
      "                \"length\": \"388\",\n",
      "                \"author\": \"Steve Jobs\",\n",
      "                \"tags\": [\n",
      "                    \"inspire\",\n",
      "                    \"life\",\n",
      "                    \"time\",\n",
      "                    \"tod\",\n",
      "                    \"truth\",\n",
      "                    \"tso-top-100\"\n",
      "                ],\n",
      "                \"category\": \"inspire\",\n",
      "                \"language\": \"en\",\n",
      "                \"date\": \"2020-08-11\",\n",
      "                \"permalink\": \"https://theysaidso.com/quote/steve-jobs-your-time-is-limited-so-dont-waste-it-living-someone-elses-life-dont\",\n",
      "                \"id\": \"RmGoiti7Oqz4LFSHrM_dIAeF\",\n",
      "                \"background\": \"https://theysaidso.com/img/qod/qod-inspire.jpg\",\n",
      "                \"title\": \"Inspiring Quote of the day\"\n",
      "            }\n",
      "        ]\n",
      "    },\n",
      "    \"baseurl\": \"https://theysaidso.com\",\n",
      "    \"copyright\": {\n",
      "        \"year\": 2022,\n",
      "        \"url\": \"https://theysaidso.com\"\n",
      "    }\n",
      "}\n",
      "Your time is limited, so don't waste it living someone else's life. Don't be trapped by dogma - which is living with the results of other people's thinking. Don't let the noise of other's opinions drown out your own inner voice. And most important, have the courage to follow your heart and intuition. They somehow already know what you truly want to become. Everything else is secondary. \n",
      "-- Steve Jobs\n"
     ]
    }
   ],
   "source": [
    "import requests\n",
    "import json\n",
    "\n",
    "# Fetch data from a REST API\n",
    "r = requests.get(\n",
    "    \"https://quotes.rest/qod.json\")\n",
    "res = r.json()\n",
    "print(json.dumps(res, indent=4))\n",
    "\n",
    "# Extract relevant object and field\n",
    "q = res[\"contents\"][\"quotes\"][0]\n",
    "print(q[\"quote\"], \"\\n--\", q[\"author\"])"
   ]
  },
  {
   "cell_type": "markdown",
   "metadata": {},
   "source": [
    "## Cleaning"
   ]
  },
  {
   "cell_type": "code",
   "execution_count": 4,
   "metadata": {
    "scrolled": true
   },
   "outputs": [
    {
     "name": "stdout",
     "output_type": "stream",
     "text": [
      "<html lang=\"en\" op=\"news\"><head><meta name=\"referrer\" content=\"origin\"><meta name=\"viewport\" content=\"width=device-width, initial-scale=1.0\"><link rel=\"stylesheet\" type=\"text/css\" href=\"news.css?LAjVLA6F9bQgfVMdAfqA\">\n",
      "        <link rel=\"shortcut icon\" href=\"favicon.ico\">\n",
      "          <link rel=\"alternate\" type=\"application/rss+xml\" title=\"RSS\" href=\"rss\">\n",
      "        <title>Hacker News</title></head><body><center><table id=\"hnmain\" border=\"0\" cellpadding=\"0\" cellspacing=\"0\" width=\"85%\" bgcolor=\"#f6f6ef\">\n",
      "        <tr><td bgcolor=\"#ff6600\"><table border=\"0\" cellpadding=\"0\" cellspacing=\"0\" width=\"100%\" style=\"padding:2px\"><tr><td style=\"width:18px;padding-right:4px\"><a href=\"https://news.ycombinator.com\"><img src=\"y18.gif\" width=\"18\" height=\"18\" style=\"border:1px white solid;\"></a></td>\n",
      "                  <td style=\"line-height:12pt; height:10px;\"><span class=\"pagetop\"><b class=\"hnname\"><a href=\"news\">Hacker News</a></b>\n",
      "              <a href=\"newest\">new</a> | <a href=\"front\">past</a> | <a href=\"newcomments\">comments</a> | <a href=\"ask\">ask</a> | <a href=\"show\">show</a> | <a href=\"jobs\">jobs</a> | <a href=\"submit\">submit</a>            </span></td><td style=\"text-align:right;padding-right:4px;\"><span class=\"pagetop\">\n",
      "                              <a href=\"login?goto=news\">login</a>\n",
      "                          </span></td>\n",
      "              </tr></table></td></tr>\n",
      "<tr id=\"pagespace\" title=\"\" style=\"height:10px\"></tr><tr><td><table border=\"0\" cellpadding=\"0\" cellspacing=\"0\" class=\"itemlist\">\n",
      "              <tr class='athing' id='24120311'>\n",
      "      <td align=\"right\" valign=\"top\" class=\"title\"><span class=\"rank\">1.</span></td>      <td valign=\"top\" class=\"votelinks\"><center><a id='up_24120311' href='vote?id=24120311&amp;how=up&amp;goto=news'><div class='votearrow' title='upvote'></div></a></center></td><td class=\"title\"><a href=\"http://www.sheshbabu.com/posts/rust-wasm-yew-single-page-application/\" class=\"storylink\">Single Page Applications using Rust</a><span class=\"sitebit comhead\"> (<a href=\"from?site=sheshbabu.com\"><span class=\"sitestr\">sheshbabu.com</span></a>)</span></td></tr><tr><td colspan=\"2\"></td><td class=\"subtext\">\n",
      "        <span class=\"score\" id=\"score_24120311\">457 points</span> by <a href=\"user?id=rkwz\" class=\"hnuser\">rkwz</a> <span class=\"age\"><a href=\"item?id=24120311\">6 hours ago</a></span> <span id=\"unv_24120311\"></span> | <a href=\"hide?id=24120311&amp;goto=news\">hide</a> | <a href=\"item?id=24120311\">234&nbsp;comments</a>              </td></tr>\n",
      "      <tr class=\"spacer\" style=\"height:5px\"></tr>\n",
      "                <tr class='athing' id='24120336'>\n",
      "      <td align=\"right\" valign=\"top\" class=\"title\"><span class=\"rank\">2.</span></td>      <td valign=\"top\" class=\"votelinks\"><center><a id='up_24120336' href='vote?id=24120336&amp;how=up&amp;goto=news'><div class='votearrow' title='upvote'></div></a></center></td><td class=\"title\"><a href=\"https://blog.mozilla.org/blog/2020/08/11/changing-world-changing-mozilla/\" class=\"storylink\">Mozilla lays off 250 employees while it refocuses on commercial products</a><span class=\"sitebit comhead\"> (<a href=\"from?site=blog.mozilla.org\"><span class=\"sitestr\">blog.mozilla.org</span></a>)</span></td></tr><tr><td colspan=\"2\"></td><td class=\"subtext\">\n",
      "        <span class=\"score\" id=\"score_24120336\">547 points</span> by <a href=\"user?id=rebelwebmaster\" class=\"hnuser\">rebelwebmaster</a> <span class=\"age\"><a href=\"item?id=24120336\">6 hours ago</a></span> <span id=\"unv_24120336\"></span> | <a href=\"hide?id=24120336&amp;goto=news\">hide</a> | <a href=\"item?id=24120336\">654&nbsp;comments</a>              </td></tr>\n",
      "      <tr class=\"spacer\" style=\"height:5px\"></tr>\n",
      "                <tr class='athing' id='24123372'>\n",
      "      <td align=\"right\" valign=\"top\" class=\"title\"><span class=\"rank\">3.</span></td>      <td valign=\"top\" class=\"votelinks\"><center><a id='up_24123372' href='vote?id=24123372&amp;how=up&amp;goto=news'><div class='votearrow' title='upvote'></div></a></center></td><td class=\"title\"><a href=\"https://sourcelevel.io/blog/3-classic-books-for-tech-leads-or-those-aspiring-to-be\" class=\"storylink\">Classic Books for Tech Leads (or those aspiring to be)</a><span class=\"sitebit comhead\"> (<a href=\"from?site=sourcelevel.io\"><span class=\"sitestr\">sourcelevel.io</span></a>)</span></td></tr><tr><td colspan=\"2\"></td><td class=\"subtext\">\n",
      "        <span class=\"score\" id=\"score_24123372\">88 points</span> by <a href=\"user?id=bmgoss\" class=\"hnuser\">bmgoss</a> <span class=\"age\"><a href=\"item?id=24123372\">2 hours ago</a></span> <span id=\"unv_24123372\"></span> | <a href=\"hide?id=24123372&amp;goto=news\">hide</a> | <a href=\"item?id=24123372\">17&nbsp;comments</a>              </td></tr>\n",
      "      <tr class=\"spacer\" style=\"height:5px\"></tr>\n",
      "                <tr class='athing' id='24123283'>\n",
      "      <td align=\"right\" valign=\"top\" class=\"title\"><span class=\"rank\">4.</span></td>      <td valign=\"top\" class=\"votelinks\"><center><a id='up_24123283' href='vote?id=24123283&amp;how=up&amp;goto=news'><div class='votearrow' title='upvote'></div></a></center></td><td class=\"title\"><a href=\"https://bevyengine.org\" class=\"storylink\">Bevy: Simple, data-driven, wgpu-based game engine in Rust</a><span class=\"sitebit comhead\"> (<a href=\"from?site=bevyengine.org\"><span class=\"sitestr\">bevyengine.org</span></a>)</span></td></tr><tr><td colspan=\"2\"></td><td class=\"subtext\">\n",
      "        <span class=\"score\" id=\"score_24123283\">102 points</span> by <a href=\"user?id=adamnemecek\" class=\"hnuser\">adamnemecek</a> <span class=\"age\"><a href=\"item?id=24123283\">2 hours ago</a></span> <span id=\"unv_24123283\"></span> | <a href=\"hide?id=24123283&amp;goto=news\">hide</a> | <a href=\"item?id=24123283\">17&nbsp;comments</a>              </td></tr>\n",
      "      <tr class=\"spacer\" style=\"height:5px\"></tr>\n",
      "                <tr class='athing' id='24123726'>\n",
      "      <td align=\"right\" valign=\"top\" class=\"title\"><span class=\"rank\">5.</span></td>      <td valign=\"top\" class=\"votelinks\"><center><a id='up_24123726' href='vote?id=24123726&amp;how=up&amp;goto=news'><div class='votearrow' title='upvote'></div></a></center></td><td class=\"title\"><a href=\"https://www.netsurf-browser.org/\" class=\"storylink\">NetSurf, a multi-platform web browser</a><span class=\"sitebit comhead\"> (<a href=\"from?site=netsurf-browser.org\"><span class=\"sitestr\">netsurf-browser.org</span></a>)</span></td></tr><tr><td colspan=\"2\"></td><td class=\"subtext\">\n",
      "        <span class=\"score\" id=\"score_24123726\">62 points</span> by <a href=\"user?id=butz\" class=\"hnuser\">butz</a> <span class=\"age\"><a href=\"item?id=24123726\">1 hour ago</a></span> <span id=\"unv_24123726\"></span> | <a href=\"hide?id=24123726&amp;goto=news\">hide</a> | <a href=\"item?id=24123726\">22&nbsp;comments</a>              </td></tr>\n",
      "      <tr class=\"spacer\" style=\"height:5px\"></tr>\n",
      "                <tr class='athing' id='24123878'>\n",
      "      <td align=\"right\" valign=\"top\" class=\"title\"><span class=\"rank\">6.</span></td>      <td valign=\"top\" class=\"votelinks\"><center><a id='up_24123878' href='vote?id=24123878&amp;how=up&amp;goto=news'><div class='votearrow' title='upvote'></div></a></center></td><td class=\"title\"><a href=\"https://blog.carlmjohnson.net/post/2020/avoid-dependencies/\" class=\"storylink\">Never use a dependency that you could replace with an afternoon of programming</a><span class=\"sitebit comhead\"> (<a href=\"from?site=carlmjohnson.net\"><span class=\"sitestr\">carlmjohnson.net</span></a>)</span></td></tr><tr><td colspan=\"2\"></td><td class=\"subtext\">\n",
      "        <span class=\"score\" id=\"score_24123878\">98 points</span> by <a href=\"user?id=earthboundkid\" class=\"hnuser\">earthboundkid</a> <span class=\"age\"><a href=\"item?id=24123878\">1 hour ago</a></span> <span id=\"unv_24123878\"></span> | <a href=\"hide?id=24123878&amp;goto=news\">hide</a> | <a href=\"item?id=24123878\">87&nbsp;comments</a>              </td></tr>\n",
      "      <tr class=\"spacer\" style=\"height:5px\"></tr>\n",
      "                <tr class='athing' id='24120275'>\n",
      "      <td align=\"right\" valign=\"top\" class=\"title\"><span class=\"rank\">7.</span></td>      <td valign=\"top\" class=\"votelinks\"><center><a id='up_24120275' href='vote?id=24120275&amp;how=up&amp;goto=news'><div class='votearrow' title='upvote'></div></a></center></td><td class=\"title\"><a href=\"https://www.deprocrastination.co/blog/how-to-stop-procrastinating-by-using-the-fogg-behavior-model\" class=\"storylink\">How to stop procrastinating by using the Fogg Behavior Model</a><span class=\"sitebit comhead\"> (<a href=\"from?site=deprocrastination.co\"><span class=\"sitestr\">deprocrastination.co</span></a>)</span></td></tr><tr><td colspan=\"2\"></td><td class=\"subtext\">\n",
      "        <span class=\"score\" id=\"score_24120275\">218 points</span> by <a href=\"user?id=vitabenes\" class=\"hnuser\">vitabenes</a> <span class=\"age\"><a href=\"item?id=24120275\">6 hours ago</a></span> <span id=\"unv_24120275\"></span> | <a href=\"hide?id=24120275&amp;goto=news\">hide</a> | <a href=\"item?id=24120275\">96&nbsp;comments</a>              </td></tr>\n",
      "      <tr class=\"spacer\" style=\"height:5px\"></tr>\n",
      "                <tr class='athing' id='24123779'>\n",
      "      <td align=\"right\" valign=\"top\" class=\"title\"><span class=\"rank\">8.</span></td>      <td valign=\"top\" class=\"votelinks\"><center><a id='up_24123779' href='vote?id=24123779&amp;how=up&amp;goto=news'><div class='votearrow' title='upvote'></div></a></center></td><td class=\"title\"><a href=\"https://ai.googleblog.com/2020/07/on-device-supermarket-product.html\" class=\"storylink\">On-Device Supermarket Product Recognition</a><span class=\"sitebit comhead\"> (<a href=\"from?site=googleblog.com\"><span class=\"sitestr\">googleblog.com</span></a>)</span></td></tr><tr><td colspan=\"2\"></td><td class=\"subtext\">\n",
      "        <span class=\"score\" id=\"score_24123779\">25 points</span> by <a href=\"user?id=theafh\" class=\"hnuser\">theafh</a> <span class=\"age\"><a href=\"item?id=24123779\">1 hour ago</a></span> <span id=\"unv_24123779\"></span> | <a href=\"hide?id=24123779&amp;goto=news\">hide</a> | <a href=\"item?id=24123779\">3&nbsp;comments</a>              </td></tr>\n",
      "      <tr class=\"spacer\" style=\"height:5px\"></tr>\n",
      "                <tr class='athing' id='24121290'>\n",
      "      <td align=\"right\" valign=\"top\" class=\"title\"><span class=\"rank\">9.</span></td>      <td valign=\"top\" class=\"votelinks\"><center><a id='up_24121290' href='vote?id=24121290&amp;how=up&amp;goto=news'><div class='votearrow' title='upvote'></div></a></center></td><td class=\"title\"><a href=\"item?id=24121290\" class=\"storylink\">Launch HN: Xkit (YC S18) – OAuth infrastructure as a service</a></td></tr><tr><td colspan=\"2\"></td><td class=\"subtext\">\n",
      "        <span class=\"score\" id=\"score_24121290\">63 points</span> by <a href=\"user?id=tg3\" class=\"hnuser\">tg3</a> <span class=\"age\"><a href=\"item?id=24121290\">4 hours ago</a></span> <span id=\"unv_24121290\"></span> | <a href=\"hide?id=24121290&amp;goto=news\">hide</a> | <a href=\"item?id=24121290\">15&nbsp;comments</a>              </td></tr>\n",
      "      <tr class=\"spacer\" style=\"height:5px\"></tr>\n",
      "                <tr class='athing' id='24122200'>\n",
      "      <td align=\"right\" valign=\"top\" class=\"title\"><span class=\"rank\">10.</span></td>      <td valign=\"top\" class=\"votelinks\"><center><a id='up_24122200' href='vote?id=24122200&amp;how=up&amp;goto=news'><div class='votearrow' title='upvote'></div></a></center></td><td class=\"title\"><a href=\"https://papersplease.org/wp/2020/08/11/tsa-considers-new-system-for-flyers-without-id/\" class=\"storylink\">TSA considers new system for flyers without ID</a><span class=\"sitebit comhead\"> (<a href=\"from?site=papersplease.org\"><span class=\"sitestr\">papersplease.org</span></a>)</span></td></tr><tr><td colspan=\"2\"></td><td class=\"subtext\">\n",
      "        <span class=\"score\" id=\"score_24122200\">59 points</span> by <a href=\"user?id=walterbell\" class=\"hnuser\">walterbell</a> <span class=\"age\"><a href=\"item?id=24122200\">3 hours ago</a></span> <span id=\"unv_24122200\"></span> | <a href=\"hide?id=24122200&amp;goto=news\">hide</a> | <a href=\"item?id=24122200\">109&nbsp;comments</a>              </td></tr>\n",
      "      <tr class=\"spacer\" style=\"height:5px\"></tr>\n",
      "                <tr class='athing' id='24120325'>\n",
      "      <td align=\"right\" valign=\"top\" class=\"title\"><span class=\"rank\">11.</span></td>      <td valign=\"top\" class=\"votelinks\"><center><a id='up_24120325' href='vote?id=24120325&amp;how=up&amp;goto=news'><div class='votearrow' title='upvote'></div></a></center></td><td class=\"title\"><a href=\"https://github.com/ksensehq/eventnative\" class=\"storylink\">Show HN: EventNative – An open-source, user event collection service</a><span class=\"sitebit comhead\"> (<a href=\"from?site=github.com\"><span class=\"sitestr\">github.com</span></a>)</span></td></tr><tr><td colspan=\"2\"></td><td class=\"subtext\">\n",
      "        <span class=\"score\" id=\"score_24120325\">166 points</span> by <a href=\"user?id=pwys\" class=\"hnuser\">pwys</a> <span class=\"age\"><a href=\"item?id=24120325\">6 hours ago</a></span> <span id=\"unv_24120325\"></span> | <a href=\"hide?id=24120325&amp;goto=news\">hide</a> | <a href=\"item?id=24120325\">22&nbsp;comments</a>              </td></tr>\n",
      "      <tr class=\"spacer\" style=\"height:5px\"></tr>\n",
      "                <tr class='athing' id='24120066'>\n",
      "      <td align=\"right\" valign=\"top\" class=\"title\"><span class=\"rank\">12.</span></td>      <td valign=\"top\" class=\"votelinks\"><center><a id='up_24120066' href='vote?id=24120066&amp;how=up&amp;goto=news'><div class='votearrow' title='upvote'></div></a></center></td><td class=\"title\"><a href=\"https://lwn.net/Articles/824380/\" class=\"storylink\">Emulating Windows system calls in Linux</a><span class=\"sitebit comhead\"> (<a href=\"from?site=lwn.net\"><span class=\"sitestr\">lwn.net</span></a>)</span></td></tr><tr><td colspan=\"2\"></td><td class=\"subtext\">\n",
      "        <span class=\"score\" id=\"score_24120066\">124 points</span> by <a href=\"user?id=mfilion\" class=\"hnuser\">mfilion</a> <span class=\"age\"><a href=\"item?id=24120066\">6 hours ago</a></span> <span id=\"unv_24120066\"></span> | <a href=\"hide?id=24120066&amp;goto=news\">hide</a> | <a href=\"item?id=24120066\">38&nbsp;comments</a>              </td></tr>\n",
      "      <tr class=\"spacer\" style=\"height:5px\"></tr>\n",
      "                <tr class='athing' id='24114392'>\n",
      "      <td align=\"right\" valign=\"top\" class=\"title\"><span class=\"rank\">13.</span></td>      <td valign=\"top\" class=\"votelinks\"><center><a id='up_24114392' href='vote?id=24114392&amp;how=up&amp;goto=news'><div class='votearrow' title='upvote'></div></a></center></td><td class=\"title\"><a href=\"https://www.historytoday.com/reviews/can-you-keep-secret\" class=\"storylink\">Can You Keep a Secret?: A hidden network of 17th-century female spies (2019)</a><span class=\"sitebit comhead\"> (<a href=\"from?site=historytoday.com\"><span class=\"sitestr\">historytoday.com</span></a>)</span></td></tr><tr><td colspan=\"2\"></td><td class=\"subtext\">\n",
      "        <span class=\"score\" id=\"score_24114392\">12 points</span> by <a href=\"user?id=pepys\" class=\"hnuser\">pepys</a> <span class=\"age\"><a href=\"item?id=24114392\">1 hour ago</a></span> <span id=\"unv_24114392\"></span> | <a href=\"hide?id=24114392&amp;goto=news\">hide</a> | <a href=\"item?id=24114392\">discuss</a>              </td></tr>\n",
      "      <tr class=\"spacer\" style=\"height:5px\"></tr>\n",
      "                <tr class='athing' id='24124497'>\n",
      "      <td align=\"right\" valign=\"top\" class=\"title\"><span class=\"rank\">14.</span></td>      <td></td><td class=\"title\"><a href=\"https://jobs.lever.co/buildzoom\" class=\"storylink\" rel=\"nofollow\">BuildZoom (better way to build custom homes) is hiring a principal engineer</a><span class=\"sitebit comhead\"> (<a href=\"from?site=lever.co\"><span class=\"sitestr\">lever.co</span></a>)</span></td></tr><tr><td colspan=\"2\"></td><td class=\"subtext\">\n",
      "        <span class=\"age\"><a href=\"item?id=24124497\">1 hour ago</a></span> | <a href=\"hide?id=24124497&amp;goto=news\">hide</a>      </td></tr>\n",
      "      <tr class=\"spacer\" style=\"height:5px\"></tr>\n",
      "                <tr class='athing' id='24119124'>\n",
      "      <td align=\"right\" valign=\"top\" class=\"title\"><span class=\"rank\">15.</span></td>      <td valign=\"top\" class=\"votelinks\"><center><a id='up_24119124' href='vote?id=24119124&amp;how=up&amp;goto=news'><div class='votearrow' title='upvote'></div></a></center></td><td class=\"title\"><a href=\"https://www.nayuki.io/page/creating-a-qr-code-step-by-step\" class=\"storylink\">Creating a QR Code step by step</a><span class=\"sitebit comhead\"> (<a href=\"from?site=nayuki.io\"><span class=\"sitestr\">nayuki.io</span></a>)</span></td></tr><tr><td colspan=\"2\"></td><td class=\"subtext\">\n",
      "        <span class=\"score\" id=\"score_24119124\">238 points</span> by <a href=\"user?id=creolabs\" class=\"hnuser\">creolabs</a> <span class=\"age\"><a href=\"item?id=24119124\">8 hours ago</a></span> <span id=\"unv_24119124\"></span> | <a href=\"hide?id=24119124&amp;goto=news\">hide</a> | <a href=\"item?id=24119124\">28&nbsp;comments</a>              </td></tr>\n",
      "      <tr class=\"spacer\" style=\"height:5px\"></tr>\n",
      "                <tr class='athing' id='24124075'>\n",
      "      <td align=\"right\" valign=\"top\" class=\"title\"><span class=\"rank\">16.</span></td>      <td valign=\"top\" class=\"votelinks\"><center><a id='up_24124075' href='vote?id=24124075&amp;how=up&amp;goto=news'><div class='votearrow' title='upvote'></div></a></center></td><td class=\"title\"><a href=\"https://www.datadoghq.com/blog/dash-2020-new-feature-roundup/\" class=\"storylink\">Datadog releases Incident Management, Profiler, Error Tracking, and more</a><span class=\"sitebit comhead\"> (<a href=\"from?site=datadoghq.com\"><span class=\"sitestr\">datadoghq.com</span></a>)</span></td></tr><tr><td colspan=\"2\"></td><td class=\"subtext\">\n",
      "        <span class=\"score\" id=\"score_24124075\">59 points</span> by <a href=\"user?id=dbenamy\" class=\"hnuser\">dbenamy</a> <span class=\"age\"><a href=\"item?id=24124075\">1 hour ago</a></span> <span id=\"unv_24124075\"></span> | <a href=\"hide?id=24124075&amp;goto=news\">hide</a> | <a href=\"item?id=24124075\">1&nbsp;comment</a>              </td></tr>\n",
      "      <tr class=\"spacer\" style=\"height:5px\"></tr>\n",
      "                <tr class='athing' id='24123748'>\n",
      "      <td align=\"right\" valign=\"top\" class=\"title\"><span class=\"rank\">17.</span></td>      <td valign=\"top\" class=\"votelinks\"><center><a id='up_24123748' href='vote?id=24123748&amp;how=up&amp;goto=news'><div class='votearrow' title='upvote'></div></a></center></td><td class=\"title\"><a href=\"https://orgmodeforbeginners.com/\" class=\"storylink\">Videos for learning Org Mode</a><span class=\"sitebit comhead\"> (<a href=\"from?site=orgmodeforbeginners.com\"><span class=\"sitestr\">orgmodeforbeginners.com</span></a>)</span></td></tr><tr><td colspan=\"2\"></td><td class=\"subtext\">\n",
      "        <span class=\"score\" id=\"score_24123748\">44 points</span> by <a href=\"user?id=AndySylvester\" class=\"hnuser\">AndySylvester</a> <span class=\"age\"><a href=\"item?id=24123748\">1 hour ago</a></span> <span id=\"unv_24123748\"></span> | <a href=\"hide?id=24123748&amp;goto=news\">hide</a> | <a href=\"item?id=24123748\">7&nbsp;comments</a>              </td></tr>\n",
      "      <tr class=\"spacer\" style=\"height:5px\"></tr>\n",
      "                <tr class='athing' id='24124338'>\n",
      "      <td align=\"right\" valign=\"top\" class=\"title\"><span class=\"rank\">18.</span></td>      <td valign=\"top\" class=\"votelinks\"><center><a id='up_24124338' href='vote?id=24124338&amp;how=up&amp;goto=news'><div class='votearrow' title='upvote'></div></a></center></td><td class=\"title\"><a href=\"https://earther.gizmodo.com/chevron-is-trying-to-crush-a-prominent-climate-lawyer-a-1844685508\" class=\"storylink\">Chevron Is Trying to Crush a Prominent Climate Lawyer</a><span class=\"sitebit comhead\"> (<a href=\"from?site=gizmodo.com\"><span class=\"sitestr\">gizmodo.com</span></a>)</span></td></tr><tr><td colspan=\"2\"></td><td class=\"subtext\">\n",
      "        <span class=\"score\" id=\"score_24124338\">38 points</span> by <a href=\"user?id=qsymmachus\" class=\"hnuser\">qsymmachus</a> <span class=\"age\"><a href=\"item?id=24124338\">1 hour ago</a></span> <span id=\"unv_24124338\"></span> | <a href=\"hide?id=24124338&amp;goto=news\">hide</a> | <a href=\"item?id=24124338\">1&nbsp;comment</a>              </td></tr>\n",
      "      <tr class=\"spacer\" style=\"height:5px\"></tr>\n",
      "                <tr class='athing' id='24107656'>\n",
      "      <td align=\"right\" valign=\"top\" class=\"title\"><span class=\"rank\">19.</span></td>      <td valign=\"top\" class=\"votelinks\"><center><a id='up_24107656' href='vote?id=24107656&amp;how=up&amp;goto=news'><div class='votearrow' title='upvote'></div></a></center></td><td class=\"title\"><a href=\"https://twitter.com/olivertlord/status/1292562140776271872\" class=\"storylink\">The periodic table, colour coded by the likely origin of each element</a><span class=\"sitebit comhead\"> (<a href=\"from?site=twitter.com\"><span class=\"sitestr\">twitter.com</span></a>)</span></td></tr><tr><td colspan=\"2\"></td><td class=\"subtext\">\n",
      "        <span class=\"score\" id=\"score_24107656\">122 points</span> by <a href=\"user?id=prawn\" class=\"hnuser\">prawn</a> <span class=\"age\"><a href=\"item?id=24107656\">9 hours ago</a></span> <span id=\"unv_24107656\"></span> | <a href=\"hide?id=24107656&amp;goto=news\">hide</a> | <a href=\"item?id=24107656\">54&nbsp;comments</a>              </td></tr>\n",
      "      <tr class=\"spacer\" style=\"height:5px\"></tr>\n",
      "                <tr class='athing' id='24123339'>\n",
      "      <td align=\"right\" valign=\"top\" class=\"title\"><span class=\"rank\">20.</span></td>      <td valign=\"top\" class=\"votelinks\"><center><a id='up_24123339' href='vote?id=24123339&amp;how=up&amp;goto=news'><div class='votearrow' title='upvote'></div></a></center></td><td class=\"title\"><a href=\"https://weloverss.com\" class=\"storylink\">Show HN: A fast RSS reader I built with a friend</a><span class=\"sitebit comhead\"> (<a href=\"from?site=weloverss.com\"><span class=\"sitestr\">weloverss.com</span></a>)</span></td></tr><tr><td colspan=\"2\"></td><td class=\"subtext\">\n",
      "        <span class=\"score\" id=\"score_24123339\">21 points</span> by <a href=\"user?id=Casperin\" class=\"hnuser\">Casperin</a> <span class=\"age\"><a href=\"item?id=24123339\">2 hours ago</a></span> <span id=\"unv_24123339\"></span> | <a href=\"hide?id=24123339&amp;goto=news\">hide</a> | <a href=\"item?id=24123339\">22&nbsp;comments</a>              </td></tr>\n",
      "      <tr class=\"spacer\" style=\"height:5px\"></tr>\n",
      "                <tr class='athing' id='24119109'>\n",
      "      <td align=\"right\" valign=\"top\" class=\"title\"><span class=\"rank\">21.</span></td>      <td valign=\"top\" class=\"votelinks\"><center><a id='up_24119109' href='vote?id=24119109&amp;how=up&amp;goto=news'><div class='votearrow' title='upvote'></div></a></center></td><td class=\"title\"><a href=\"https://www.nano-di.com/dragonfly-ldm-3d-printer\" class=\"storylink\">DragonFly LDM – Lights-Out Digital Manufacturing System (3D Electronics Printer)</a><span class=\"sitebit comhead\"> (<a href=\"from?site=nano-di.com\"><span class=\"sitestr\">nano-di.com</span></a>)</span></td></tr><tr><td colspan=\"2\"></td><td class=\"subtext\">\n",
      "        <span class=\"score\" id=\"score_24119109\">27 points</span> by <a href=\"user?id=peter_d_sherman\" class=\"hnuser\">peter_d_sherman</a> <span class=\"age\"><a href=\"item?id=24119109\">3 hours ago</a></span> <span id=\"unv_24119109\"></span> | <a href=\"hide?id=24119109&amp;goto=news\">hide</a> | <a href=\"item?id=24119109\">6&nbsp;comments</a>              </td></tr>\n",
      "      <tr class=\"spacer\" style=\"height:5px\"></tr>\n",
      "                <tr class='athing' id='24118718'>\n",
      "      <td align=\"right\" valign=\"top\" class=\"title\"><span class=\"rank\">22.</span></td>      <td valign=\"top\" class=\"votelinks\"><center><a id='up_24118718' href='vote?id=24118718&amp;how=up&amp;goto=news'><div class='votearrow' title='upvote'></div></a></center></td><td class=\"title\"><a href=\"https://www.kinfolk.com/run-for-your-life/\" class=\"storylink\">Run for Your Life</a><span class=\"sitebit comhead\"> (<a href=\"from?site=kinfolk.com\"><span class=\"sitestr\">kinfolk.com</span></a>)</span></td></tr><tr><td colspan=\"2\"></td><td class=\"subtext\">\n",
      "        <span class=\"score\" id=\"score_24118718\">20 points</span> by <a href=\"user?id=Melchizedek\" class=\"hnuser\">Melchizedek</a> <span class=\"age\"><a href=\"item?id=24118718\">2 hours ago</a></span> <span id=\"unv_24118718\"></span> | <a href=\"hide?id=24118718&amp;goto=news\">hide</a> | <a href=\"item?id=24118718\">21&nbsp;comments</a>              </td></tr>\n",
      "      <tr class=\"spacer\" style=\"height:5px\"></tr>\n",
      "                <tr class='athing' id='24120054'>\n",
      "      <td align=\"right\" valign=\"top\" class=\"title\"><span class=\"rank\">23.</span></td>      <td valign=\"top\" class=\"votelinks\"><center><a id='up_24120054' href='vote?id=24120054&amp;how=up&amp;goto=news'><div class='votearrow' title='upvote'></div></a></center></td><td class=\"title\"><a href=\"https://www.wired.com/story/belarus-internet-outage-election/\" class=\"storylink\">Belarus Has Shut Down the Internet Amid a Controversial Election</a><span class=\"sitebit comhead\"> (<a href=\"from?site=wired.com\"><span class=\"sitestr\">wired.com</span></a>)</span></td></tr><tr><td colspan=\"2\"></td><td class=\"subtext\">\n",
      "        <span class=\"score\" id=\"score_24120054\">326 points</span> by <a href=\"user?id=ikse11\" class=\"hnuser\">ikse11</a> <span class=\"age\"><a href=\"item?id=24120054\">6 hours ago</a></span> <span id=\"unv_24120054\"></span> | <a href=\"hide?id=24120054&amp;goto=news\">hide</a> | <a href=\"item?id=24120054\">141&nbsp;comments</a>              </td></tr>\n",
      "      <tr class=\"spacer\" style=\"height:5px\"></tr>\n",
      "                <tr class='athing' id='24120981'>\n",
      "      <td align=\"right\" valign=\"top\" class=\"title\"><span class=\"rank\">24.</span></td>      <td valign=\"top\" class=\"votelinks\"><center><a id='up_24120981' href='vote?id=24120981&amp;how=up&amp;goto=news'><div class='votearrow' title='upvote'></div></a></center></td><td class=\"title\"><a href=\"https://www.rankscience.com/blog/why-google-should-be-regulated-as-a-public-utility\" class=\"storylink\">The case for why Google should be regulated as a public utility</a><span class=\"sitebit comhead\"> (<a href=\"from?site=rankscience.com\"><span class=\"sitestr\">rankscience.com</span></a>)</span></td></tr><tr><td colspan=\"2\"></td><td class=\"subtext\">\n",
      "        <span class=\"score\" id=\"score_24120981\">239 points</span> by <a href=\"user?id=abhivyas5\" class=\"hnuser\">abhivyas5</a> <span class=\"age\"><a href=\"item?id=24120981\">5 hours ago</a></span> <span id=\"unv_24120981\"></span> | <a href=\"hide?id=24120981&amp;goto=news\">hide</a> | <a href=\"item?id=24120981\">317&nbsp;comments</a>              </td></tr>\n",
      "      <tr class=\"spacer\" style=\"height:5px\"></tr>\n",
      "                <tr class='athing' id='24121892'>\n",
      "      <td align=\"right\" valign=\"top\" class=\"title\"><span class=\"rank\">25.</span></td>      <td valign=\"top\" class=\"votelinks\"><center><a id='up_24121892' href='vote?id=24121892&amp;how=up&amp;goto=news'><div class='votearrow' title='upvote'></div></a></center></td><td class=\"title\"><a href=\"item?id=24121892\" class=\"storylink\">Tell HN: YC's First Lightning Tech Talk and Hiring Event Is on September 10th</a></td></tr><tr><td colspan=\"2\"></td><td class=\"subtext\">\n",
      "        <span class=\"score\" id=\"score_24121892\">31 points</span> by <a href=\"user?id=ryankicks\" class=\"hnuser\">ryankicks</a> <span class=\"age\"><a href=\"item?id=24121892\">4 hours ago</a></span> <span id=\"unv_24121892\"></span> | <a href=\"hide?id=24121892&amp;goto=news\">hide</a> | <a href=\"item?id=24121892\">7&nbsp;comments</a>              </td></tr>\n",
      "      <tr class=\"spacer\" style=\"height:5px\"></tr>\n",
      "                <tr class='athing' id='24119024'>\n",
      "      <td align=\"right\" valign=\"top\" class=\"title\"><span class=\"rank\">26.</span></td>      <td valign=\"top\" class=\"votelinks\"><center><a id='up_24119024' href='vote?id=24119024&amp;how=up&amp;goto=news'><div class='votearrow' title='upvote'></div></a></center></td><td class=\"title\"><a href=\"https://elazzabi.com/2020/08/11/the-day-i-accidentally-built-a-nudity-porn-platform/\" class=\"storylink\">The day I accidentally built a nudity/porn platform</a><span class=\"sitebit comhead\"> (<a href=\"from?site=elazzabi.com\"><span class=\"sitestr\">elazzabi.com</span></a>)</span></td></tr><tr><td colspan=\"2\"></td><td class=\"subtext\">\n",
      "        <span class=\"score\" id=\"score_24119024\">411 points</span> by <a href=\"user?id=elazzabi_\" class=\"hnuser\">elazzabi_</a> <span class=\"age\"><a href=\"item?id=24119024\">9 hours ago</a></span> <span id=\"unv_24119024\"></span> | <a href=\"hide?id=24119024&amp;goto=news\">hide</a> | <a href=\"item?id=24119024\">284&nbsp;comments</a>              </td></tr>\n",
      "      <tr class=\"spacer\" style=\"height:5px\"></tr>\n",
      "                <tr class='athing' id='24117758'>\n",
      "      <td align=\"right\" valign=\"top\" class=\"title\"><span class=\"rank\">27.</span></td>      <td valign=\"top\" class=\"votelinks\"><center><a id='up_24117758' href='vote?id=24117758&amp;how=up&amp;goto=news'><div class='votearrow' title='upvote'></div></a></center></td><td class=\"title\"><a href=\"https://maori.geek.nz/golang-desktop-app-with-webview-lorca-wasm-and-bazel-3283813bf89\" class=\"storylink\">Golang Desktop App with Webview/Lorca, WASM and Bazel</a><span class=\"sitebit comhead\"> (<a href=\"from?site=maori.geek.nz\"><span class=\"sitestr\">maori.geek.nz</span></a>)</span></td></tr><tr><td colspan=\"2\"></td><td class=\"subtext\">\n",
      "        <span class=\"score\" id=\"score_24117758\">147 points</span> by <a href=\"user?id=grahar64\" class=\"hnuser\">grahar64</a> <span class=\"age\"><a href=\"item?id=24117758\">13 hours ago</a></span> <span id=\"unv_24117758\"></span> | <a href=\"hide?id=24117758&amp;goto=news\">hide</a> | <a href=\"item?id=24117758\">97&nbsp;comments</a>              </td></tr>\n",
      "      <tr class=\"spacer\" style=\"height:5px\"></tr>\n",
      "                <tr class='athing' id='24122034'>\n",
      "      <td align=\"right\" valign=\"top\" class=\"title\"><span class=\"rank\">28.</span></td>      <td valign=\"top\" class=\"votelinks\"><center><a id='up_24122034' href='vote?id=24122034&amp;how=up&amp;goto=news'><div class='votearrow' title='upvote'></div></a></center></td><td class=\"title\"><a href=\"https://www.bloomberg.com/news/articles/2020-08-11/small-firms-die-quietly-leaving-thousands-of-failures-uncounted\" class=\"storylink\">Small Businesses Are Dying by the Thousands – and No One Is Tracking the Carnage</a><span class=\"sitebit comhead\"> (<a href=\"from?site=bloomberg.com\"><span class=\"sitestr\">bloomberg.com</span></a>)</span></td></tr><tr><td colspan=\"2\"></td><td class=\"subtext\">\n",
      "        <span class=\"score\" id=\"score_24122034\">84 points</span> by <a href=\"user?id=behrlich95\" class=\"hnuser\">behrlich95</a> <span class=\"age\"><a href=\"item?id=24122034\">3 hours ago</a></span> <span id=\"unv_24122034\"></span> | <a href=\"hide?id=24122034&amp;goto=news\">hide</a> | <a href=\"item?id=24122034\">19&nbsp;comments</a>              </td></tr>\n",
      "      <tr class=\"spacer\" style=\"height:5px\"></tr>\n",
      "                <tr class='athing' id='24120862'>\n",
      "      <td align=\"right\" valign=\"top\" class=\"title\"><span class=\"rank\">29.</span></td>      <td valign=\"top\" class=\"votelinks\"><center><a id='up_24120862' href='vote?id=24120862&amp;how=up&amp;goto=news'><div class='votearrow' title='upvote'></div></a></center></td><td class=\"title\"><a href=\"https://www.forbes.com/sites/jasonevangelho/2020/08/10/lenovo-new-thinkpad-p53-fedora-linux-laptop\" class=\"storylink\">Lenovo’s Fedora-Powered ThinkPad P53 Is Everything I Want in a Linux Laptop</a><span class=\"sitebit comhead\"> (<a href=\"from?site=forbes.com\"><span class=\"sitestr\">forbes.com</span></a>)</span></td></tr><tr><td colspan=\"2\"></td><td class=\"subtext\">\n",
      "        <span class=\"score\" id=\"score_24120862\">115 points</span> by <a href=\"user?id=rkangel\" class=\"hnuser\">rkangel</a> <span class=\"age\"><a href=\"item?id=24120862\">5 hours ago</a></span> <span id=\"unv_24120862\"></span> | <a href=\"hide?id=24120862&amp;goto=news\">hide</a> | <a href=\"item?id=24120862\">52&nbsp;comments</a>              </td></tr>\n",
      "      <tr class=\"spacer\" style=\"height:5px\"></tr>\n",
      "                <tr class='athing' id='24119838'>\n",
      "      <td align=\"right\" valign=\"top\" class=\"title\"><span class=\"rank\">30.</span></td>      <td valign=\"top\" class=\"votelinks\"><center><a id='up_24119838' href='vote?id=24119838&amp;how=up&amp;goto=news'><div class='votearrow' title='upvote'></div></a></center></td><td class=\"title\"><a href=\"https://reasonml.org/blog/bucklescript-is-rebranding\" class=\"storylink\">BuckleScript Is Rebranding</a><span class=\"sitebit comhead\"> (<a href=\"from?site=reasonml.org\"><span class=\"sitestr\">reasonml.org</span></a>)</span></td></tr><tr><td colspan=\"2\"></td><td class=\"subtext\">\n",
      "        <span class=\"score\" id=\"score_24119838\">80 points</span> by <a href=\"user?id=yawaramin\" class=\"hnuser\">yawaramin</a> <span class=\"age\"><a href=\"item?id=24119838\">7 hours ago</a></span> <span id=\"unv_24119838\"></span> | <a href=\"hide?id=24119838&amp;goto=news\">hide</a> | <a href=\"item?id=24119838\">46&nbsp;comments</a>              </td></tr>\n",
      "      <tr class=\"spacer\" style=\"height:5px\"></tr>\n",
      "            <tr class=\"morespace\" style=\"height:10px\"></tr><tr><td colspan=\"2\"></td><td class=\"title\"><a href=\"news?p=2\" class=\"morelink\" rel=\"next\">More</a></td></tr>\n",
      "  </table>\n",
      "</td></tr>\n",
      "<tr><td><img src=\"s.gif\" height=\"10\" width=\"0\"><table width=\"100%\" cellspacing=\"0\" cellpadding=\"1\"><tr><td bgcolor=\"#ff6600\"></td></tr></table><br><center><span class=\"yclinks\"><a href=\"newsguidelines.html\">Guidelines</a>\n",
      "        | <a href=\"newsfaq.html\">FAQ</a>\n",
      "        | <a href=\"mailto:hn@ycombinator.com\">Support</a>\n",
      "        | <a href=\"https://github.com/HackerNews/API\">API</a>\n",
      "        | <a href=\"security.html\">Security</a>\n",
      "        | <a href=\"lists\">Lists</a>\n",
      "        | <a href=\"bookmarklet.html\" rel=\"nofollow\">Bookmarklet</a>\n",
      "        | <a href=\"http://www.ycombinator.com/legal/\">Legal</a>\n",
      "        | <a href=\"http://www.ycombinator.com/apply/\">Apply to YC</a>\n",
      "        | <a href=\"mailto:hn@ycombinator.com\">Contact</a></span><br><br><form method=\"get\" action=\"//hn.algolia.com/\">Search:\n",
      "          <input type=\"text\" name=\"q\" value=\"\" size=\"17\" autocorrect=\"off\" spellcheck=\"false\" autocapitalize=\"off\" autocomplete=\"false\"></form>\n",
      "            </center></td></tr>\n",
      "      </table></center></body><script type='text/javascript' src='hn.js?LAjVLA6F9bQgfVMdAfqA'></script></html>\n",
      "\n"
     ]
    }
   ],
   "source": [
    "import requests\n",
    "\n",
    "# Fetch a web page\n",
    "r = requests.get(\"https://news.ycombinator.com\")\n",
    "print(r.text)"
   ]
  },
  {
   "cell_type": "code",
   "execution_count": 5,
   "metadata": {},
   "outputs": [
    {
     "name": "stdout",
     "output_type": "stream",
     "text": [
      "\n",
      "        \n",
      "          \n",
      "        Hacker News\n",
      "        \n",
      "                  Hacker News\n",
      "              new | past | comments | ask | show | jobs | submit            \n",
      "                              login\n",
      "                          \n",
      "              \n",
      "\n",
      "              \n",
      "      1.      Single Page Applications using Rust (sheshbabu.com)\n",
      "        457 points by rkwz 6 hours ago  | hide | 234&nbsp;comments              \n",
      "      \n",
      "                \n",
      "      2.      Mozilla lays off 250 employees while it refocuses on commercial products (blog.mozilla.org)\n",
      "        547 points by rebelwebmaster 6 hours ago  | hide | 654&nbsp;comments              \n",
      "      \n",
      "                \n",
      "      3.      Classic Books for Tech Leads (or those aspiring to be) (sourcelevel.io)\n",
      "        88 points by bmgoss 2 hours ago  | hide | 17&nbsp;comments              \n",
      "      \n",
      "                \n",
      "      4.      Bevy: Simple, data-driven, wgpu-based game engine in Rust (bevyengine.org)\n",
      "        102 points by adamnemecek 2 hours ago  | hide | 17&nbsp;comments              \n",
      "      \n",
      "                \n",
      "      5.      NetSurf, a multi-platform web browser (netsurf-browser.org)\n",
      "        62 points by butz 1 hour ago  | hide | 22&nbsp;comments              \n",
      "      \n",
      "                \n",
      "      6.      Never use a dependency that you could replace with an afternoon of programming (carlmjohnson.net)\n",
      "        98 points by earthboundkid 1 hour ago  | hide | 87&nbsp;comments              \n",
      "      \n",
      "                \n",
      "      7.      How to stop procrastinating by using the Fogg Behavior Model (deprocrastination.co)\n",
      "        218 points by vitabenes 6 hours ago  | hide | 96&nbsp;comments              \n",
      "      \n",
      "                \n",
      "      8.      On-Device Supermarket Product Recognition (googleblog.com)\n",
      "        25 points by theafh 1 hour ago  | hide | 3&nbsp;comments              \n",
      "      \n",
      "                \n",
      "      9.      Launch HN: Xkit (YC S18) – OAuth infrastructure as a service\n",
      "        63 points by tg3 4 hours ago  | hide | 15&nbsp;comments              \n",
      "      \n",
      "                \n",
      "      10.      TSA considers new system for flyers without ID (papersplease.org)\n",
      "        59 points by walterbell 3 hours ago  | hide | 109&nbsp;comments              \n",
      "      \n",
      "                \n",
      "      11.      Show HN: EventNative – An open-source, user event collection service (github.com)\n",
      "        166 points by pwys 6 hours ago  | hide | 22&nbsp;comments              \n",
      "      \n",
      "                \n",
      "      12.      Emulating Windows system calls in Linux (lwn.net)\n",
      "        124 points by mfilion 6 hours ago  | hide | 38&nbsp;comments              \n",
      "      \n",
      "                \n",
      "      13.      Can You Keep a Secret?: A hidden network of 17th-century female spies (2019) (historytoday.com)\n",
      "        12 points by pepys 1 hour ago  | hide | discuss              \n",
      "      \n",
      "                \n",
      "      14.      BuildZoom (better way to build custom homes) is hiring a principal engineer (lever.co)\n",
      "        1 hour ago | hide      \n",
      "      \n",
      "                \n",
      "      15.      Creating a QR Code step by step (nayuki.io)\n",
      "        238 points by creolabs 8 hours ago  | hide | 28&nbsp;comments              \n",
      "      \n",
      "                \n",
      "      16.      Datadog releases Incident Management, Profiler, Error Tracking, and more (datadoghq.com)\n",
      "        59 points by dbenamy 1 hour ago  | hide | 1&nbsp;comment              \n",
      "      \n",
      "                \n",
      "      17.      Videos for learning Org Mode (orgmodeforbeginners.com)\n",
      "        44 points by AndySylvester 1 hour ago  | hide | 7&nbsp;comments              \n",
      "      \n",
      "                \n",
      "      18.      Chevron Is Trying to Crush a Prominent Climate Lawyer (gizmodo.com)\n",
      "        38 points by qsymmachus 1 hour ago  | hide | 1&nbsp;comment              \n",
      "      \n",
      "                \n",
      "      19.      The periodic table, colour coded by the likely origin of each element (twitter.com)\n",
      "        122 points by prawn 9 hours ago  | hide | 54&nbsp;comments              \n",
      "      \n",
      "                \n",
      "      20.      Show HN: A fast RSS reader I built with a friend (weloverss.com)\n",
      "        21 points by Casperin 2 hours ago  | hide | 22&nbsp;comments              \n",
      "      \n",
      "                \n",
      "      21.      DragonFly LDM – Lights-Out Digital Manufacturing System (3D Electronics Printer) (nano-di.com)\n",
      "        27 points by peter_d_sherman 3 hours ago  | hide | 6&nbsp;comments              \n",
      "      \n",
      "                \n",
      "      22.      Run for Your Life (kinfolk.com)\n",
      "        20 points by Melchizedek 2 hours ago  | hide | 21&nbsp;comments              \n",
      "      \n",
      "                \n",
      "      23.      Belarus Has Shut Down the Internet Amid a Controversial Election (wired.com)\n",
      "        326 points by ikse11 6 hours ago  | hide | 141&nbsp;comments              \n",
      "      \n",
      "                \n",
      "      24.      The case for why Google should be regulated as a public utility (rankscience.com)\n",
      "        239 points by abhivyas5 5 hours ago  | hide | 317&nbsp;comments              \n",
      "      \n",
      "                \n",
      "      25.      Tell HN: YC's First Lightning Tech Talk and Hiring Event Is on September 10th\n",
      "        31 points by ryankicks 4 hours ago  | hide | 7&nbsp;comments              \n",
      "      \n",
      "                \n",
      "      26.      The day I accidentally built a nudity/porn platform (elazzabi.com)\n",
      "        411 points by elazzabi_ 9 hours ago  | hide | 284&nbsp;comments              \n",
      "      \n",
      "                \n",
      "      27.      Golang Desktop App with Webview/Lorca, WASM and Bazel (maori.geek.nz)\n",
      "        147 points by grahar64 13 hours ago  | hide | 97&nbsp;comments              \n",
      "      \n",
      "                \n",
      "      28.      Small Businesses Are Dying by the Thousands – and No One Is Tracking the Carnage (bloomberg.com)\n",
      "        84 points by behrlich95 3 hours ago  | hide | 19&nbsp;comments              \n",
      "      \n",
      "                \n",
      "      29.      Lenovo’s Fedora-Powered ThinkPad P53 Is Everything I Want in a Linux Laptop (forbes.com)\n",
      "        115 points by rkangel 5 hours ago  | hide | 52&nbsp;comments              \n",
      "      \n",
      "                \n",
      "      30.      BuckleScript Is Rebranding (reasonml.org)\n",
      "        80 points by yawaramin 7 hours ago  | hide | 46&nbsp;comments              \n",
      "      \n",
      "            More\n",
      "  \n",
      "\n",
      "Guidelines\n",
      "        | FAQ\n",
      "        | Support\n",
      "        | API\n",
      "        | Security\n",
      "        | Lists\n",
      "        | Bookmarklet\n",
      "        | Legal\n",
      "        | Apply to YC\n",
      "        | ContactSearch:\n",
      "          \n",
      "            \n",
      "      \n",
      "\n"
     ]
    }
   ],
   "source": [
    "import re\n",
    "\n",
    "# Remove HTML tags using RegEx\n",
    "pattern = re.compile(r'<.*?>')  # tags look like <...>\n",
    "print(pattern.sub('', r.text))  # replace them with blank"
   ]
  },
  {
   "cell_type": "code",
   "execution_count": 6,
   "metadata": {},
   "outputs": [
    {
     "name": "stdout",
     "output_type": "stream",
     "text": [
      "\n",
      "        \n",
      "          \n",
      "        Hacker News\n",
      "        \n",
      "                  Hacker News\n",
      "              new | past | comments | ask | show | jobs | submit            \n",
      "                              login\n",
      "                          \n",
      "              \n",
      "\n",
      "              \n",
      "      1.      Single Page Applications using Rust (sheshbabu.com)\n",
      "        457 points by rkwz 6 hours ago  | hide | 234 comments              \n",
      "      \n",
      "                \n",
      "      2.      Mozilla lays off 250 employees while it refocuses on commercial products (blog.mozilla.org)\n",
      "        547 points by rebelwebmaster 6 hours ago  | hide | 654 comments              \n",
      "      \n",
      "                \n",
      "      3.      Classic Books for Tech Leads (or those aspiring to be) (sourcelevel.io)\n",
      "        88 points by bmgoss 2 hours ago  | hide | 17 comments              \n",
      "      \n",
      "                \n",
      "      4.      Bevy: Simple, data-driven, wgpu-based game engine in Rust (bevyengine.org)\n",
      "        102 points by adamnemecek 2 hours ago  | hide | 17 comments              \n",
      "      \n",
      "                \n",
      "      5.      NetSurf, a multi-platform web browser (netsurf-browser.org)\n",
      "        62 points by butz 1 hour ago  | hide | 22 comments              \n",
      "      \n",
      "                \n",
      "      6.      Never use a dependency that you could replace with an afternoon of programming (carlmjohnson.net)\n",
      "        98 points by earthboundkid 1 hour ago  | hide | 87 comments              \n",
      "      \n",
      "                \n",
      "      7.      How to stop procrastinating by using the Fogg Behavior Model (deprocrastination.co)\n",
      "        218 points by vitabenes 6 hours ago  | hide | 96 comments              \n",
      "      \n",
      "                \n",
      "      8.      On-Device Supermarket Product Recognition (googleblog.com)\n",
      "        25 points by theafh 1 hour ago  | hide | 3 comments              \n",
      "      \n",
      "                \n",
      "      9.      Launch HN: Xkit (YC S18) – OAuth infrastructure as a service\n",
      "        63 points by tg3 4 hours ago  | hide | 15 comments              \n",
      "      \n",
      "                \n",
      "      10.      TSA considers new system for flyers without ID (papersplease.org)\n",
      "        59 points by walterbell 3 hours ago  | hide | 109 comments              \n",
      "      \n",
      "                \n",
      "      11.      Show HN: EventNative – An open-source, user event collection service (github.com)\n",
      "        166 points by pwys 6 hours ago  | hide | 22 comments              \n",
      "      \n",
      "                \n",
      "      12.      Emulating Windows system calls in Linux (lwn.net)\n",
      "        124 points by mfilion 6 hours ago  | hide | 38 comments              \n",
      "      \n",
      "                \n",
      "      13.      Can You Keep a Secret?: A hidden network of 17th-century female spies (2019) (historytoday.com)\n",
      "        12 points by pepys 1 hour ago  | hide | discuss              \n",
      "      \n",
      "                \n",
      "      14.      BuildZoom (better way to build custom homes) is hiring a principal engineer (lever.co)\n",
      "        1 hour ago | hide      \n",
      "      \n",
      "                \n",
      "      15.      Creating a QR Code step by step (nayuki.io)\n",
      "        238 points by creolabs 8 hours ago  | hide | 28 comments              \n",
      "      \n",
      "                \n",
      "      16.      Datadog releases Incident Management, Profiler, Error Tracking, and more (datadoghq.com)\n",
      "        59 points by dbenamy 1 hour ago  | hide | 1 comment              \n",
      "      \n",
      "                \n",
      "      17.      Videos for learning Org Mode (orgmodeforbeginners.com)\n",
      "        44 points by AndySylvester 1 hour ago  | hide | 7 comments              \n",
      "      \n",
      "                \n",
      "      18.      Chevron Is Trying to Crush a Prominent Climate Lawyer (gizmodo.com)\n",
      "        38 points by qsymmachus 1 hour ago  | hide | 1 comment              \n",
      "      \n",
      "                \n",
      "      19.      The periodic table, colour coded by the likely origin of each element (twitter.com)\n",
      "        122 points by prawn 9 hours ago  | hide | 54 comments              \n",
      "      \n",
      "                \n",
      "      20.      Show HN: A fast RSS reader I built with a friend (weloverss.com)\n",
      "        21 points by Casperin 2 hours ago  | hide | 22 comments              \n",
      "      \n",
      "                \n",
      "      21.      DragonFly LDM – Lights-Out Digital Manufacturing System (3D Electronics Printer) (nano-di.com)\n",
      "        27 points by peter_d_sherman 3 hours ago  | hide | 6 comments              \n",
      "      \n",
      "                \n",
      "      22.      Run for Your Life (kinfolk.com)\n",
      "        20 points by Melchizedek 2 hours ago  | hide | 21 comments              \n",
      "      \n",
      "                \n",
      "      23.      Belarus Has Shut Down the Internet Amid a Controversial Election (wired.com)\n",
      "        326 points by ikse11 6 hours ago  | hide | 141 comments              \n",
      "      \n",
      "                \n",
      "      24.      The case for why Google should be regulated as a public utility (rankscience.com)\n",
      "        239 points by abhivyas5 5 hours ago  | hide | 317 comments              \n",
      "      \n",
      "                \n",
      "      25.      Tell HN: YC's First Lightning Tech Talk and Hiring Event Is on September 10th\n",
      "        31 points by ryankicks 4 hours ago  | hide | 7 comments              \n",
      "      \n",
      "                \n",
      "      26.      The day I accidentally built a nudity/porn platform (elazzabi.com)\n",
      "        411 points by elazzabi_ 9 hours ago  | hide | 284 comments              \n",
      "      \n",
      "                \n",
      "      27.      Golang Desktop App with Webview/Lorca, WASM and Bazel (maori.geek.nz)\n",
      "        147 points by grahar64 13 hours ago  | hide | 97 comments              \n",
      "      \n",
      "                \n",
      "      28.      Small Businesses Are Dying by the Thousands – and No One Is Tracking the Carnage (bloomberg.com)\n",
      "        84 points by behrlich95 3 hours ago  | hide | 19 comments              \n",
      "      \n",
      "                \n",
      "      29.      Lenovo’s Fedora-Powered ThinkPad P53 Is Everything I Want in a Linux Laptop (forbes.com)\n",
      "        115 points by rkangel 5 hours ago  | hide | 52 comments              \n",
      "      \n",
      "                \n",
      "      30.      BuckleScript Is Rebranding (reasonml.org)\n",
      "        80 points by yawaramin 7 hours ago  | hide | 46 comments              \n",
      "      \n",
      "            More\n",
      "  \n",
      "\n",
      "Guidelines\n",
      "        | FAQ\n",
      "        | Support\n",
      "        | API\n",
      "        | Security\n",
      "        | Lists\n",
      "        | Bookmarklet\n",
      "        | Legal\n",
      "        | Apply to YC\n",
      "        | ContactSearch:\n",
      "          \n",
      "            \n",
      "      \n",
      "\n"
     ]
    }
   ],
   "source": [
    "from bs4 import BeautifulSoup\n",
    "\n",
    "# Remove HTML tags using Beautiful Soup library\n",
    "soup = BeautifulSoup(r.text, \"html5lib\")\n",
    "print(soup.get_text())"
   ]
  },
  {
   "cell_type": "code",
   "execution_count": 7,
   "metadata": {
    "scrolled": true
   },
   "outputs": [
    {
     "data": {
      "text/plain": [
       "<tr class=\"athing\" id=\"24120311\">\n",
       "      <td align=\"right\" class=\"title\" valign=\"top\"><span class=\"rank\">1.</span></td>      <td class=\"votelinks\" valign=\"top\"><center><a href=\"vote?id=24120311&amp;how=up&amp;goto=news\" id=\"up_24120311\"><div class=\"votearrow\" title=\"upvote\"></div></a></center></td><td class=\"title\"><a class=\"storylink\" href=\"http://www.sheshbabu.com/posts/rust-wasm-yew-single-page-application/\">Single Page Applications using Rust</a><span class=\"sitebit comhead\"> (<a href=\"from?site=sheshbabu.com\"><span class=\"sitestr\">sheshbabu.com</span></a>)</span></td></tr>"
      ]
     },
     "execution_count": 7,
     "metadata": {},
     "output_type": "execute_result"
    }
   ],
   "source": [
    "# Find all articles\n",
    "summaries = soup.find_all(\"tr\", class_=\"athing\")\n",
    "summaries[0]"
   ]
  },
  {
   "cell_type": "code",
   "execution_count": 8,
   "metadata": {},
   "outputs": [
    {
     "data": {
      "text/plain": [
       "'Single Page Applications using Rust'"
      ]
     },
     "execution_count": 8,
     "metadata": {},
     "output_type": "execute_result"
    }
   ],
   "source": [
    "# Extract title\n",
    "summaries[0].find(\"a\", class_=\"storylink\").get_text().strip()"
   ]
  },
  {
   "cell_type": "code",
   "execution_count": 9,
   "metadata": {},
   "outputs": [
    {
     "name": "stdout",
     "output_type": "stream",
     "text": [
      "30 Article summaries found. Sample:\n",
      "Single Page Applications using Rust\n"
     ]
    }
   ],
   "source": [
    "# Find all articles, extract titles\n",
    "articles = []\n",
    "summaries = soup.find_all(\"tr\", class_=\"athing\")\n",
    "for summary in summaries:\n",
    "    title = summary.find(\"a\", class_=\"storylink\").get_text().strip()\n",
    "    articles.append((title))\n",
    "\n",
    "print(len(articles), \"Article summaries found. Sample:\")\n",
    "print(articles[0])"
   ]
  },
  {
   "cell_type": "markdown",
   "metadata": {
    "collapsed": true
   },
   "source": [
    "## Normalization"
   ]
  },
  {
   "cell_type": "markdown",
   "metadata": {},
   "source": [
    "### Case Normalization"
   ]
  },
  {
   "cell_type": "code",
   "execution_count": 10,
   "metadata": {},
   "outputs": [
    {
     "name": "stdout",
     "output_type": "stream",
     "text": [
      "The first time you see The Second Renaissance it may look boring. Look at it at least twice and definitely watch part 2. It will change your view of the matrix. Are the human people the ones who started the war ? Is AI a bad thing ?\n"
     ]
    }
   ],
   "source": [
    "# Sample text\n",
    "text = \"The first time you see The Second Renaissance it may look boring. Look at it at least twice and definitely watch part 2. It will change your view of the matrix. Are the human people the ones who started the war ? Is AI a bad thing ?\"\n",
    "print(text)"
   ]
  },
  {
   "cell_type": "code",
   "execution_count": 11,
   "metadata": {},
   "outputs": [
    {
     "name": "stdout",
     "output_type": "stream",
     "text": [
      "the first time you see the second renaissance it may look boring. look at it at least twice and definitely watch part 2. it will change your view of the matrix. are the human people the ones who started the war ? is ai a bad thing ?\n"
     ]
    }
   ],
   "source": [
    "# Convert to lowercase\n",
    "text = text.lower() \n",
    "print(text)"
   ]
  },
  {
   "cell_type": "markdown",
   "metadata": {},
   "source": [
    "### Punctuation Removal"
   ]
  },
  {
   "cell_type": "code",
   "execution_count": 12,
   "metadata": {},
   "outputs": [
    {
     "name": "stdout",
     "output_type": "stream",
     "text": [
      "the first time you see the second renaissance it may look boring  look at it at least twice and definitely watch part 2  it will change your view of the matrix  are the human people the ones who started the war   is ai a bad thing  \n"
     ]
    }
   ],
   "source": [
    "import re\n",
    "\n",
    "# Remove punctuation characters\n",
    "text = re.sub(r\"[^a-zA-Z0-9]\", \" \", text) \n",
    "print(text)"
   ]
  },
  {
   "cell_type": "markdown",
   "metadata": {},
   "source": [
    "## Tokenization"
   ]
  },
  {
   "cell_type": "code",
   "execution_count": 13,
   "metadata": {},
   "outputs": [
    {
     "name": "stdout",
     "output_type": "stream",
     "text": [
      "['the', 'first', 'time', 'you', 'see', 'the', 'second', 'renaissance', 'it', 'may', 'look', 'boring', 'look', 'at', 'it', 'at', 'least', 'twice', 'and', 'definitely', 'watch', 'part', '2', 'it', 'will', 'change', 'your', 'view', 'of', 'the', 'matrix', 'are', 'the', 'human', 'people', 'the', 'ones', 'who', 'started', 'the', 'war', 'is', 'ai', 'a', 'bad', 'thing']\n"
     ]
    }
   ],
   "source": [
    "# Split text into tokens (words)\n",
    "words = text.split()\n",
    "print(words)"
   ]
  },
  {
   "cell_type": "markdown",
   "metadata": {},
   "source": [
    "### NLTK: Natural Language ToolKit"
   ]
  },
  {
   "cell_type": "code",
   "execution_count": 14,
   "metadata": {},
   "outputs": [],
   "source": [
    "import os\n",
    "import nltk\n",
    "nltk.data.path.append(os.path.join(os.getcwd(), \"nltk_data\"))"
   ]
  },
  {
   "cell_type": "code",
   "execution_count": 15,
   "metadata": {},
   "outputs": [
    {
     "name": "stdout",
     "output_type": "stream",
     "text": [
      "Dr. Smith graduated from the University of Washington. He later started an analytics firm called Lux, which catered to enterprise customers.\n"
     ]
    }
   ],
   "source": [
    "# Another sample text\n",
    "text = \"Dr. Smith graduated from the University of Washington. He later started an analytics firm called Lux, which catered to enterprise customers.\"\n",
    "print(text)"
   ]
  },
  {
   "cell_type": "code",
   "execution_count": 16,
   "metadata": {},
   "outputs": [
    {
     "name": "stdout",
     "output_type": "stream",
     "text": [
      "['Dr.', 'Smith', 'graduated', 'from', 'the', 'University', 'of', 'Washington', '.', 'He', 'later', 'started', 'an', 'analytics', 'firm', 'called', 'Lux', ',', 'which', 'catered', 'to', 'enterprise', 'customers', '.']\n"
     ]
    }
   ],
   "source": [
    "from nltk.tokenize import word_tokenize\n",
    "\n",
    "# Split text into words using NLTK\n",
    "words = word_tokenize(text)\n",
    "print(words)"
   ]
  },
  {
   "cell_type": "code",
   "execution_count": 17,
   "metadata": {},
   "outputs": [
    {
     "name": "stdout",
     "output_type": "stream",
     "text": [
      "['Dr. Smith graduated from the University of Washington.', 'He later started an analytics firm called Lux, which catered to enterprise customers.']\n"
     ]
    }
   ],
   "source": [
    "from nltk.tokenize import sent_tokenize\n",
    "\n",
    "# Split text into sentences\n",
    "sentences = sent_tokenize(text)\n",
    "print(sentences)"
   ]
  },
  {
   "cell_type": "code",
   "execution_count": 18,
   "metadata": {},
   "outputs": [
    {
     "name": "stdout",
     "output_type": "stream",
     "text": [
      "['i', 'me', 'my', 'myself', 'we', 'our', 'ours', 'ourselves', 'you', \"you're\", \"you've\", \"you'll\", \"you'd\", 'your', 'yours', 'yourself', 'yourselves', 'he', 'him', 'his', 'himself', 'she', \"she's\", 'her', 'hers', 'herself', 'it', \"it's\", 'its', 'itself', 'they', 'them', 'their', 'theirs', 'themselves', 'what', 'which', 'who', 'whom', 'this', 'that', \"that'll\", 'these', 'those', 'am', 'is', 'are', 'was', 'were', 'be', 'been', 'being', 'have', 'has', 'had', 'having', 'do', 'does', 'did', 'doing', 'a', 'an', 'the', 'and', 'but', 'if', 'or', 'because', 'as', 'until', 'while', 'of', 'at', 'by', 'for', 'with', 'about', 'against', 'between', 'into', 'through', 'during', 'before', 'after', 'above', 'below', 'to', 'from', 'up', 'down', 'in', 'out', 'on', 'off', 'over', 'under', 'again', 'further', 'then', 'once', 'here', 'there', 'when', 'where', 'why', 'how', 'all', 'any', 'both', 'each', 'few', 'more', 'most', 'other', 'some', 'such', 'no', 'nor', 'not', 'only', 'own', 'same', 'so', 'than', 'too', 'very', 's', 't', 'can', 'will', 'just', 'don', \"don't\", 'should', \"should've\", 'now', 'd', 'll', 'm', 'o', 're', 've', 'y', 'ain', 'aren', \"aren't\", 'couldn', \"couldn't\", 'didn', \"didn't\", 'doesn', \"doesn't\", 'hadn', \"hadn't\", 'hasn', \"hasn't\", 'haven', \"haven't\", 'isn', \"isn't\", 'ma', 'mightn', \"mightn't\", 'mustn', \"mustn't\", 'needn', \"needn't\", 'shan', \"shan't\", 'shouldn', \"shouldn't\", 'wasn', \"wasn't\", 'weren', \"weren't\", 'won', \"won't\", 'wouldn', \"wouldn't\"]\n"
     ]
    }
   ],
   "source": [
    "# List stop words\n",
    "from nltk.corpus import stopwords\n",
    "print(stopwords.words(\"english\"))"
   ]
  },
  {
   "cell_type": "code",
   "execution_count": 19,
   "metadata": {},
   "outputs": [
    {
     "name": "stdout",
     "output_type": "stream",
     "text": [
      "['the', 'first', 'time', 'you', 'see', 'the', 'second', 'renaissance', 'it', 'may', 'look', 'boring', 'look', 'at', 'it', 'at', 'least', 'twice', 'and', 'definitely', 'watch', 'part', '2', 'it', 'will', 'change', 'your', 'view', 'of', 'the', 'matrix', 'are', 'the', 'human', 'people', 'the', 'ones', 'who', 'started', 'the', 'war', 'is', 'ai', 'a', 'bad', 'thing']\n"
     ]
    }
   ],
   "source": [
    "# Reset text\n",
    "text = \"The first time you see The Second Renaissance it may look boring. Look at it at least twice and definitely watch part 2. It will change your view of the matrix. Are the human people the ones who started the war ? Is AI a bad thing ?\"\n",
    "\n",
    "# Normalize it\n",
    "text = re.sub(r\"[^a-zA-Z0-9]\", \" \", text.lower())\n",
    "\n",
    "# Tokenize it\n",
    "words = text.split()\n",
    "print(words)"
   ]
  },
  {
   "cell_type": "code",
   "execution_count": 20,
   "metadata": {},
   "outputs": [
    {
     "name": "stdout",
     "output_type": "stream",
     "text": [
      "['first', 'time', 'see', 'second', 'renaissance', 'may', 'look', 'boring', 'look', 'least', 'twice', 'definitely', 'watch', 'part', '2', 'change', 'view', 'matrix', 'human', 'people', 'ones', 'started', 'war', 'ai', 'bad', 'thing']\n"
     ]
    }
   ],
   "source": [
    "# Remove stop words\n",
    "words = [w for w in words if w not in stopwords.words(\"english\")]\n",
    "print(words)"
   ]
  },
  {
   "cell_type": "markdown",
   "metadata": {},
   "source": [
    "### Sentence Parsing"
   ]
  },
  {
   "cell_type": "code",
   "execution_count": 21,
   "metadata": {},
   "outputs": [
    {
     "name": "stdout",
     "output_type": "stream",
     "text": [
      "(S\n",
      "  (NP I)\n",
      "  (VP\n",
      "    (VP (V shot) (NP (Det an) (N elephant)))\n",
      "    (PP (P in) (NP (Det my) (N pajamas)))))\n",
      "(S\n",
      "  (NP I)\n",
      "  (VP\n",
      "    (V shot)\n",
      "    (NP (Det an) (N elephant) (PP (P in) (NP (Det my) (N pajamas))))))\n"
     ]
    }
   ],
   "source": [
    "import nltk\n",
    "\n",
    "# Define a custom grammar\n",
    "my_grammar = nltk.CFG.fromstring(\"\"\"\n",
    "S -> NP VP\n",
    "PP -> P NP\n",
    "NP -> Det N | Det N PP | 'I'\n",
    "VP -> V NP | VP PP\n",
    "Det -> 'an' | 'my'\n",
    "N -> 'elephant' | 'pajamas'\n",
    "V -> 'shot'\n",
    "P -> 'in'\n",
    "\"\"\")\n",
    "parser = nltk.ChartParser(my_grammar)\n",
    "\n",
    "# Parse a sentence\n",
    "sentence = word_tokenize(\"I shot an elephant in my pajamas\")\n",
    "for tree in parser.parse(sentence):\n",
    "    print(tree)"
   ]
  },
  {
   "cell_type": "markdown",
   "metadata": {},
   "source": [
    "## Stemming & Lemmatization\n",
    "\n",
    "### Stemming"
   ]
  },
  {
   "cell_type": "code",
   "execution_count": 22,
   "metadata": {},
   "outputs": [
    {
     "name": "stdout",
     "output_type": "stream",
     "text": [
      "['first', 'time', 'see', 'second', 'renaiss', 'may', 'look', 'bore', 'look', 'least', 'twice', 'definit', 'watch', 'part', '2', 'chang', 'view', 'matrix', 'human', 'peopl', 'one', 'start', 'war', 'ai', 'bad', 'thing']\n"
     ]
    }
   ],
   "source": [
    "from nltk.stem.porter import PorterStemmer\n",
    "\n",
    "# Reduce words to their stems\n",
    "stemmed = [PorterStemmer().stem(w) for w in words]\n",
    "print(stemmed)"
   ]
  },
  {
   "cell_type": "markdown",
   "metadata": {},
   "source": [
    "### Lemmatization"
   ]
  },
  {
   "cell_type": "code",
   "execution_count": 23,
   "metadata": {},
   "outputs": [
    {
     "name": "stdout",
     "output_type": "stream",
     "text": [
      "['first', 'time', 'see', 'second', 'renaissance', 'may', 'look', 'boring', 'look', 'least', 'twice', 'definitely', 'watch', 'part', '2', 'change', 'view', 'matrix', 'human', 'people', 'one', 'started', 'war', 'ai', 'bad', 'thing']\n"
     ]
    }
   ],
   "source": [
    "from nltk.stem.wordnet import WordNetLemmatizer\n",
    "\n",
    "# Reduce words to their root form\n",
    "lemmed = [WordNetLemmatizer().lemmatize(w) for w in words]\n",
    "print(lemmed)"
   ]
  },
  {
   "cell_type": "code",
   "execution_count": 24,
   "metadata": {},
   "outputs": [
    {
     "name": "stdout",
     "output_type": "stream",
     "text": [
      "['first', 'time', 'see', 'second', 'renaissance', 'may', 'look', 'bore', 'look', 'least', 'twice', 'definitely', 'watch', 'part', '2', 'change', 'view', 'matrix', 'human', 'people', 'one', 'start', 'war', 'ai', 'bad', 'thing']\n"
     ]
    }
   ],
   "source": [
    "# Lemmatize verbs by specifying pos\n",
    "lemmed = [WordNetLemmatizer().lemmatize(w, pos='v') for w in lemmed]\n",
    "print(lemmed)"
   ]
  },
  {
   "cell_type": "code",
   "execution_count": null,
   "metadata": {},
   "outputs": [],
   "source": []
  }
 ],
 "metadata": {
  "kernelspec": {
   "display_name": "Python 3",
   "language": "python",
   "name": "python3"
  },
  "language_info": {
   "codemirror_mode": {
    "name": "ipython",
    "version": 3
   },
   "file_extension": ".py",
   "mimetype": "text/x-python",
   "name": "python",
   "nbconvert_exporter": "python",
   "pygments_lexer": "ipython3",
   "version": "3.6.3"
  }
 },
 "nbformat": 4,
 "nbformat_minor": 2
}
